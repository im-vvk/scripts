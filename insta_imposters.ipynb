{
 "cells": [
  {
   "cell_type": "markdown",
   "metadata": {},
   "source": [
    "# Instagram Imposters\n",
    "\n",
    "A script to find out who are not following you back (excluding accounts with blue tick, yk... can't say them imposters).\n",
    "\n",
    "**requirements**\n",
    "\n",
    "* python\n",
    "* selenium\n",
    "* microsoft edge webdriver\n"
   ]
  },
  {
   "cell_type": "code",
   "execution_count": null,
   "metadata": {},
   "outputs": [],
   "source": [
    "from selenium.webdriver.common.keys import Keys\n",
    "from selenium import webdriver\n",
    "\n",
    "from selenium.webdriver.common.action_chains import ActionChains\n"
   ]
  },
  {
   "cell_type": "code",
   "execution_count": null,
   "metadata": {},
   "outputs": [],
   "source": [
    "USER_NAME = input('Enter Your Instagram User Name: ')\n",
    "URL_LINK = 'https://www.instagram.com/'+USER_NAME"
   ]
  },
  {
   "cell_type": "code",
   "execution_count": null,
   "metadata": {},
   "outputs": [],
   "source": [
    "driver = webdriver.Edge('msedgedriver.exe')\n",
    "driver.get(URL_LINK)\n",
    "driver.implicitly_wait(5)"
   ]
  },
  {
   "cell_type": "code",
   "execution_count": null,
   "metadata": {},
   "outputs": [],
   "source": [
    "def scroll_pages(driver, f_count_func, f_count):\n",
    "    action_chains= ActionChains(driver)\n",
    "    while len(f_count_func())<f_count:\n",
    "        driver.find_element_by_class_name('isgrP').click()    \n",
    "        for _ in range(50):\n",
    "            action_chains.send_keys(Keys.ARROW_DOWN).perform()"
   ]
  },
  {
   "cell_type": "code",
   "execution_count": null,
   "metadata": {},
   "outputs": [],
   "source": [
    "driver.get(URL_LINK)"
   ]
  },
  {
   "cell_type": "markdown",
   "metadata": {},
   "source": [
    "## Now, Please Login into your account before moving further\n",
    "\n",
    "### Followers"
   ]
  },
  {
   "cell_type": "code",
   "execution_count": null,
   "metadata": {},
   "outputs": [],
   "source": [
    "follower_link = driver.find_element_by_partial_link_text('follower')\n",
    "follower_count = int(follower_link.text.strip().split()[0])\n",
    "follower_link.click()\n",
    "follower_count"
   ]
  },
  {
   "cell_type": "code",
   "execution_count": null,
   "metadata": {},
   "outputs": [],
   "source": [
    "def get_follower_elements():\n",
    "    return driver.find_elements_by_css_selector('a[class=\"notranslate _0imsa \"]')"
   ]
  },
  {
   "cell_type": "code",
   "execution_count": null,
   "metadata": {},
   "outputs": [],
   "source": [
    "scroll_pages(driver, get_follower_elements, follower_count)"
   ]
  },
  {
   "cell_type": "code",
   "execution_count": null,
   "metadata": {},
   "outputs": [],
   "source": [
    "follower_elements = get_follower_elements()\n",
    "\n",
    "followers_set = {follower.get_attribute('title').strip() for follower in follower_elements}\n",
    "driver.find_element_by_css_selector('svg[aria-label=\"Close\"]').click()\n",
    "len(followers_set)"
   ]
  },
  {
   "cell_type": "markdown",
   "metadata": {},
   "source": [
    "### FOLLOWING"
   ]
  },
  {
   "cell_type": "code",
   "execution_count": null,
   "metadata": {},
   "outputs": [],
   "source": [
    "following_link = driver.find_element_by_partial_link_text('following')\n",
    "following_count = int(following_link.text.strip().split()[0])\n",
    "following_link.click()"
   ]
  },
  {
   "cell_type": "code",
   "execution_count": null,
   "metadata": {},
   "outputs": [],
   "source": [
    "def get_following_elements():\n",
    "    return driver.find_element_by_class_name('isgrP').find_elements_by_class_name('wo9IH')"
   ]
  },
  {
   "cell_type": "code",
   "execution_count": null,
   "metadata": {},
   "outputs": [],
   "source": [
    "scroll_pages(driver, get_following_elements, following_count)"
   ]
  },
  {
   "cell_type": "code",
   "execution_count": null,
   "metadata": {},
   "outputs": [],
   "source": [
    "following_elements = get_following_elements()\n",
    "followings_set = set() \n",
    "\n",
    "for followings in following_elements:\n",
    "    text = followings.find_element_by_class_name('d7ByH').text.strip()\n",
    "    \n",
    "    if 'verified' not in text.lower():\n",
    "        followings_set.add(text)\n",
    "        \n",
    "driver.find_element_by_css_selector('svg[aria-label=\"Close\"]').click()"
   ]
  },
  {
   "cell_type": "code",
   "execution_count": null,
   "metadata": {},
   "outputs": [],
   "source": [
    "imposters = followings_set.difference(followers_set)\n",
    "print('imposters: ', len(imposters), '\\n\\n')\n",
    "for x in imposters:\n",
    "    print(x)"
   ]
  },
  {
   "cell_type": "code",
   "execution_count": null,
   "metadata": {},
   "outputs": [],
   "source": []
  }
 ],
 "metadata": {
  "kernelspec": {
   "display_name": "Python 3",
   "language": "python",
   "name": "python3"
  },
  "language_info": {
   "codemirror_mode": {
    "name": "ipython",
    "version": 3
   },
   "file_extension": ".py",
   "mimetype": "text/x-python",
   "name": "python",
   "nbconvert_exporter": "python",
   "pygments_lexer": "ipython3",
   "version": "3.8.5"
  }
 },
 "nbformat": 4,
 "nbformat_minor": 4
}
